{
 "cells": [
  {
   "cell_type": "code",
   "execution_count": 20,
   "metadata": {
    "collapsed": false
   },
   "outputs": [
    {
     "ename": "SystemExit",
     "evalue": "",
     "output_type": "error",
     "traceback": [
      "An exception has occurred, use %tb to see the full traceback.\n",
      "\u001b[0;31mSystemExit\u001b[0m\n"
     ]
    },
    {
     "name": "stderr",
     "output_type": "stream",
     "text": [
      "To exit: use 'exit', 'quit', or Ctrl-D.\n"
     ]
    }
   ],
   "source": [
    "import sys\n",
    "import getopt\n",
    "import os\n",
    "import csv\n",
    "\"\"\"\n",
    " Test of file to see if it confirms to the iPRG2016 study instructios\n",
    " Usage: checkiPRGResultFile -i input-file [-f fasta-file]\n",
    "\"\"\"\n",
    "class Usage(Exception):\n",
    "    def __init__(self, msg):\n",
    "        self.msg = msg\n",
    "\n",
    "class WrongFormat(Exception):\n",
    "    def __init__(self, msg,fields):\n",
    "        self.msg = msg\n",
    "        self.fields = fields\n",
    "    \n",
    "def getAllProteinNames(fastaFile):\n",
    "    proteinNames = []\n",
    "    with open(fastaFile,\"r\") as lines:\n",
    "        for line in lines:\n",
    "            if line[0]=='>':\n",
    "                line = line.rstrip()[1:]\n",
    "                proteinName = line.split(' ')[0]\n",
    "                if proteinName[:4]=='HPRR':\n",
    "                    proteinNames.append(proteinName)\n",
    "    return proteinNames\n",
    "\n",
    "def checkHeader(fields):\n",
    "    if not len(fields)==13:\n",
    "        raise WrongFormat((\"Wong number of values in header (%i values).\" % len(fields)),fields)\n",
    "    if (not fields[0]==\"FDR\") and (not fields[0]==\"PEP\"):\n",
    "        raise WrongFormat((\"Header wrongly formated. Field 0 should either be PEP or FDR, it is currently given as \\\"%s\\\".\"%fields[0]),fields)\n",
    "    for sample in ['A','B','C','D']:\n",
    "        for repl in range(1,4):\n",
    "            name = sample +  str(repl)\n",
    "            if not name in fields[1:]:\n",
    "                raise WrongFormat(\"Could not find run %s in header\" % name, fields)\n",
    "\n",
    "def checkRow(fields,names):\n",
    "    if not len(fields)==13:\n",
    "        raise WrongFormat(\"Wong number of cells in row.\", fields)\n",
    "    if not fields[0] in names:\n",
    "        raise WrongFormat(\"Protein name %s not recognized\" % fields[0], fields)\n",
    "    for field in fields[1:]:\n",
    "        try:\n",
    "            val = float(field)\n",
    "        except TypeError:\n",
    "            raise WrongFormat(\"The cell %s is not in floating point notation\" % field, fields)\n",
    "        if (val<0.0 or val>1.0):\n",
    "            raise WrongFormat(\"The cell %s is not a value between 0.0 and 1.0\" % field, fields)\n",
    "            \n",
    "def checkFile(resultFile=\"my_resultFile.txt\",fastaFile=\"iPRG2016.fasta\"):\n",
    "    names = getAllProteinNames(fastaFile)\n",
    "    with open(resultFile,\"r\") as inFile:\n",
    "        csvReader = csv.reader(inFile, delimiter = '\\t',quotechar='\"', quoting=csv.QUOTE_NONNUMERIC)\n",
    "        checkHeader(csvReader.next())\n",
    "        for fields in csvReader:\n",
    "            checkRow(fields,names)\n",
    "\n",
    "\n",
    "def main(argv=None):\n",
    "    if argv is None:\n",
    "        argv = sys.argv\n",
    "    try:\n",
    "        try:\n",
    "            opts, args = getopt.getopt(argv[1:], \"hi:f:\", [\"help\",\"test-file\",\"fasta-file\"])\n",
    "        except getopt.error, msg:\n",
    "             raise Usage(msg)\n",
    "        checkFile()\n",
    "        return\n",
    "    except WrongFormat, err:\n",
    "        print >>sys.stderr, err.msg\n",
    "        print >>sys.stderr, \" \".join(err.fields)\n",
    "        return 3\n",
    "    except Usage, err:\n",
    "        print >>sys.stderr, err.msg\n",
    "        print >>sys.stderr, \"for help use --help\"\n",
    "        return 2\n",
    "\n",
    "if __name__ == \"__main__\":\n",
    "    sys.exit(main())\n",
    "\n",
    "                \n",
    "\n"
   ]
  },
  {
   "cell_type": "code",
   "execution_count": 21,
   "metadata": {
    "collapsed": false
   },
   "outputs": [],
   "source": [
    "main([\"./my_resultFile.txt\"])"
   ]
  },
  {
   "cell_type": "code",
   "execution_count": null,
   "metadata": {
    "collapsed": true
   },
   "outputs": [],
   "source": []
  }
 ],
 "metadata": {
  "kernelspec": {
   "display_name": "Python 2",
   "language": "python",
   "name": "python2"
  },
  "language_info": {
   "codemirror_mode": {
    "name": "ipython",
    "version": 2
   },
   "file_extension": ".py",
   "mimetype": "text/x-python",
   "name": "python",
   "nbconvert_exporter": "python",
   "pygments_lexer": "ipython2",
   "version": "2.7.11"
  }
 },
 "nbformat": 4,
 "nbformat_minor": 0
}
