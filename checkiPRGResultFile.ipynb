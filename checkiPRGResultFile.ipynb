{
 "cells": [
  {
   "cell_type": "code",
   "execution_count": 36,
   "metadata": {
    "collapsed": false
   },
   "outputs": [
    {
     "name": "stderr",
     "output_type": "stream",
     "text": [
      "Usage: script.py [options]\n",
      "\n",
      "Options:\n",
      "  -h, --help                   Show this message, and quit\n",
      "  -i FILE, --test-file=FILE    The file to test, defaults to my_resultFile.txt\n",
      "  -s                           Read the file to test from stdin, instead as from a file\n",
      "  -f FILE, --fasta-file=FILE   The FASTA database that was searched, defaults to iPRG2016.fasta\n",
      "\n"
     ]
    }
   ],
   "source": [
    "import sys\n",
    "import getopt\n",
    "import os\n",
    "import csv\n",
    "\"\"\"\n",
    " Test of file to see if it confirms to the iPRG2016 study instructios\n",
    " Usage: checkiPRGResultFile -i input-file [-f fasta-file]\n",
    "\"\"\"\n",
    "class Usage(Exception):\n",
    "    def __init__(self, msg):\n",
    "        self.msg = msg\n",
    "\n",
    "class WrongFormat(Exception):\n",
    "    def __init__(self, msg,fields):\n",
    "        self.msg = msg\n",
    "        self.fields = fields\n",
    "    \n",
    "def getAllProteinNames(fastaFile):\n",
    "    proteinNames = []\n",
    "    with open(fastaFile,\"r\") as lines:\n",
    "        for line in lines:\n",
    "            if line[0]=='>':\n",
    "                line = line.rstrip()[1:]\n",
    "                proteinName = line.split(' ')[0]\n",
    "                if proteinName[:4]=='HPRR':\n",
    "                    proteinNames.append(proteinName)\n",
    "    return proteinNames\n",
    "\n",
    "def checkHeader(fields):\n",
    "    if not len(fields)==13:\n",
    "        raise WrongFormat((\"Wrong number of values in header (%i values).\" % len(fields)),fields)\n",
    "    if (not fields[0]==\"FDR\") and (not fields[0]==\"PEP\"):\n",
    "        raise WrongFormat((\"Header wrongly formated. Field 0 should either be PEP or FDR, it is currently given as \\\"%s\\\".\"%fields[0]),fields)\n",
    "    for sample in ['A','B','C','D']:\n",
    "        for repl in range(1,4):\n",
    "            name = sample +  str(repl)\n",
    "            if not name in fields[1:]:\n",
    "                raise WrongFormat(\"Could not find run %s in header\" % name, fields)\n",
    "\n",
    "def checkRow(fields,names):\n",
    "    if not len(fields)==13:\n",
    "        raise WrongFormat(\"Wrong number of cells in row.\", fields)\n",
    "    if not fields[0] in names:\n",
    "        raise WrongFormat(\"Protein name %s not recognized\" % fields[0], fields)\n",
    "    for field in fields[1:]:\n",
    "        try:\n",
    "            val = float(field)\n",
    "        except TypeError:\n",
    "            raise WrongFormat(\"The cell %s is not in floating point notation\" % field, fields)\n",
    "        if (val<0.0 or val>1.0):\n",
    "            raise WrongFormat(\"The cell %s is not a value between 0.0 and 1.0\" % field, fields)\n",
    "            \n",
    "def checkFile(resultFile=\"my_resultFile.txt\",fastaFile=\"iPRG2016.fasta\"):\n",
    "    names = getAllProteinNames(fastaFile)\n",
    "    with open(resultFile,\"r\") if resultFile != None else sys.stdin as inFile:\n",
    "        csvReader = csv.reader(inFile, delimiter = '\\t',quotechar='\"', quoting=csv.QUOTE_NONNUMERIC)\n",
    "        checkHeader(csvReader.next())\n",
    "        for fields in csvReader:\n",
    "            checkRow(fields,names)\n",
    "\n",
    "def usage():\n",
    "    print >>sys.stderr, \"\"\"Usage: script.py [options]\n",
    "\n",
    "Options:\n",
    "  -h, --help                   Show this message, and quit\n",
    "  -i FILE, --test-file=FILE    The file to test, defaults to my_resultFile.txt\n",
    "  -s                           Read the file to test from stdin, instead as from a file\n",
    "  -f FILE, --fasta-file=FILE   The FASTA database that was searched, defaults to iPRG2016.fasta\n",
    "\"\"\"\n",
    "            \n",
    "def main(argv=None):\n",
    "    testFile, fastaFile =\"my_resultFile.txt\", \"iPRG2016.fasta\"\n",
    "    if argv is None:\n",
    "        argv = sys.argv\n",
    "    try:\n",
    "        try:\n",
    "            opts, args = getopt.getopt(argv[1:], \"hsi:f:\", [\"help\",\"stdin\",\"test-file\",\"fasta-file\"])\n",
    "        except getopt.error, msg:\n",
    "             raise Usage(msg)\n",
    "        for o,a in opts:\n",
    "            if o in (\"-h\", \"--help\"):\n",
    "                usage()\n",
    "                return 1\n",
    "            elif o in (\"-i\", \"--test-file\"):\n",
    "                testFile = a\n",
    "            elif o in (\"-s\", \"--stdin\"):\n",
    "                testFile = None\n",
    "            elif o in (\"-f\", \"--fasta-file\"):\n",
    "                fastaFile = a\n",
    "            else:\n",
    "                assert False, \"Unhandled exception\"\n",
    "        checkFile(testFile, fastaFile)\n",
    "        return 0\n",
    "    except WrongFormat, err:\n",
    "        print >>sys.stderr, err.msg\n",
    "        print >>sys.stderr, err.fields\n",
    "        return 3\n",
    "    except Usage, err:\n",
    "        print >>sys.stderr, err.msg\n",
    "        print >>sys.stderr, \"for help use --help\"\n",
    "        return 2\n",
    "\n",
    "if __name__ == \"__main__\":\n",
    "    main([\"script\",\"-h\"])\n"
   ]
  },
  {
   "cell_type": "code",
   "execution_count": 38,
   "metadata": {
    "collapsed": false
   },
   "outputs": [
    {
     "data": {
      "text/plain": [
       "0"
      ]
     },
     "execution_count": 38,
     "metadata": {},
     "output_type": "execute_result"
    }
   ],
   "source": [
    "main([\"script\",\"-i\",\"./my_resultFile.txt\"])"
   ]
  },
  {
   "cell_type": "code",
   "execution_count": null,
   "metadata": {
    "collapsed": true
   },
   "outputs": [],
   "source": []
  }
 ],
 "metadata": {
  "kernelspec": {
   "display_name": "Python 2",
   "language": "python",
   "name": "python2"
  },
  "language_info": {
   "codemirror_mode": {
    "name": "ipython",
    "version": 2
   },
   "file_extension": ".py",
   "mimetype": "text/x-python",
   "name": "python",
   "nbconvert_exporter": "python",
   "pygments_lexer": "ipython2",
   "version": "2.7.11"
  }
 },
 "nbformat": 4,
 "nbformat_minor": 0
}
